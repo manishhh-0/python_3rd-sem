{
 "cells": [
  {
   "cell_type": "markdown",
   "id": "31d08217",
   "metadata": {},
   "source": [
    "# Heading"
   ]
  },
  {
   "cell_type": "markdown",
   "id": "109dd19e",
   "metadata": {},
   "source": [
    "## Sub Heading"
   ]
  },
  {
   "cell_type": "markdown",
   "id": "993426d4",
   "metadata": {},
   "source": [
    "### Sub Heading 1"
   ]
  },
  {
   "cell_type": "code",
   "execution_count": 6,
   "id": "9eb549b1",
   "metadata": {},
   "outputs": [],
   "source": [
    "a=5\n",
    "b=7"
   ]
  },
  {
   "cell_type": "code",
   "execution_count": 7,
   "id": "f722d48b",
   "metadata": {},
   "outputs": [
    {
     "name": "stdout",
     "output_type": "stream",
     "text": [
      "5\n"
     ]
    }
   ],
   "source": [
    "print(a)"
   ]
  },
  {
   "cell_type": "code",
   "execution_count": 8,
   "id": "2777d630",
   "metadata": {},
   "outputs": [
    {
     "ename": "IndentationError",
     "evalue": "unexpected indent (4145110108.py, line 2)",
     "output_type": "error",
     "traceback": [
      "\u001b[1;36m  Input \u001b[1;32mIn [8]\u001b[1;36m\u001b[0m\n\u001b[1;33m    b=9\u001b[0m\n\u001b[1;37m    ^\u001b[0m\n\u001b[1;31mIndentationError\u001b[0m\u001b[1;31m:\u001b[0m unexpected indent\n"
     ]
    }
   ],
   "source": [
    "a=8\n",
    "  b=9"
   ]
  },
  {
   "cell_type": "code",
   "execution_count": 9,
   "id": "f6857e34",
   "metadata": {},
   "outputs": [
    {
     "data": {
      "text/plain": [
       "12"
      ]
     },
     "execution_count": 9,
     "metadata": {},
     "output_type": "execute_result"
    }
   ],
   "source": [
    "c=a+b\n",
    "c"
   ]
  },
  {
   "cell_type": "code",
   "execution_count": 12,
   "id": "644d30dc",
   "metadata": {},
   "outputs": [
    {
     "data": {
      "text/plain": [
       "int"
      ]
     },
     "execution_count": 12,
     "metadata": {},
     "output_type": "execute_result"
    }
   ],
   "source": [
    "type(c)"
   ]
  },
  {
   "cell_type": "code",
   "execution_count": 13,
   "id": "8143c535",
   "metadata": {},
   "outputs": [
    {
     "data": {
      "text/plain": [
       "str"
      ]
     },
     "execution_count": 13,
     "metadata": {},
     "output_type": "execute_result"
    }
   ],
   "source": [
    "e=str(a)\n",
    "type(e)"
   ]
  },
  {
   "cell_type": "code",
   "execution_count": 15,
   "id": "626b25ef",
   "metadata": {},
   "outputs": [
    {
     "name": "stdout",
     "output_type": "stream",
     "text": [
      "31\n",
      "<class 'int'>\n"
     ]
    }
   ],
   "source": [
    "a=int(31.67)\n",
    "print(a)\n",
    "print(type(a))"
   ]
  },
  {
   "cell_type": "code",
   "execution_count": 27,
   "id": "06c9561e",
   "metadata": {},
   "outputs": [
    {
     "data": {
      "text/plain": [
       "14"
      ]
     },
     "execution_count": 27,
     "metadata": {},
     "output_type": "execute_result"
    }
   ],
   "source": [
    "\"\"\"Addition\"\"\"\n",
    "a=5  \n",
    "b=9\n",
    "c=a+b\n",
    "c"
   ]
  },
  {
   "cell_type": "code",
   "execution_count": 21,
   "id": "f8e9dd72",
   "metadata": {},
   "outputs": [
    {
     "data": {
      "text/plain": [
       "-4"
      ]
     },
     "execution_count": 21,
     "metadata": {},
     "output_type": "execute_result"
    }
   ],
   "source": [
    "\"\"\"Substraction\"\"\"\n",
    "a=5\n",
    "b=9\n",
    "c=a-b\n",
    "c"
   ]
  },
  {
   "cell_type": "code",
   "execution_count": 22,
   "id": "c7d87c50",
   "metadata": {},
   "outputs": [
    {
     "data": {
      "text/plain": [
       "45"
      ]
     },
     "execution_count": 22,
     "metadata": {},
     "output_type": "execute_result"
    }
   ],
   "source": [
    "\"\"\"Multiplicattion\"\"\"\n",
    "a=5\n",
    "b=9\n",
    "c=a*b\n",
    "c"
   ]
  },
  {
   "cell_type": "code",
   "execution_count": 23,
   "id": "bfbe75ab",
   "metadata": {},
   "outputs": [
    {
     "data": {
      "text/plain": [
       "0.5555555555555556"
      ]
     },
     "execution_count": 23,
     "metadata": {},
     "output_type": "execute_result"
    }
   ],
   "source": [
    "\"\"\"Division\"\"\"\n",
    "a=5\n",
    "b=9\n",
    "c=a/b\n",
    "c"
   ]
  },
  {
   "cell_type": "code",
   "execution_count": 24,
   "id": "e1c98ee7",
   "metadata": {},
   "outputs": [
    {
     "data": {
      "text/plain": [
       "0"
      ]
     },
     "execution_count": 24,
     "metadata": {},
     "output_type": "execute_result"
    }
   ],
   "source": [
    "\"\"\"Float division\"\"\"\n",
    "a=5\n",
    "b=9\n",
    "c=a//b\n",
    "c"
   ]
  },
  {
   "cell_type": "markdown",
   "id": "515b1815",
   "metadata": {},
   "source": [
    "\"\"\"Modulus\"\"\"\n",
    "a=5\n",
    "b=9\n",
    "c=a%b\n",
    "c"
   ]
  },
  {
   "cell_type": "markdown",
   "id": "915d1bf8",
   "metadata": {},
   "source": [
    "# Operators"
   ]
  },
  {
   "cell_type": "code",
   "execution_count": 54,
   "id": "499e0c34",
   "metadata": {},
   "outputs": [
    {
     "data": {
      "text/plain": [
       "False"
      ]
     },
     "execution_count": 54,
     "metadata": {},
     "output_type": "execute_result"
    }
   ],
   "source": [
    "#Equall\n",
    "a=5\n",
    "b=9\n",
    "a==b"
   ]
  },
  {
   "cell_type": "code",
   "execution_count": 55,
   "id": "bd313c2e",
   "metadata": {},
   "outputs": [
    {
     "data": {
      "text/plain": [
       "False"
      ]
     },
     "execution_count": 55,
     "metadata": {},
     "output_type": "execute_result"
    }
   ],
   "source": [
    "#Greater\n",
    "a=5\n",
    "b=9\n",
    "a>b"
   ]
  },
  {
   "cell_type": "code",
   "execution_count": 56,
   "id": "fceff63f",
   "metadata": {},
   "outputs": [
    {
     "data": {
      "text/plain": [
       "True"
      ]
     },
     "execution_count": 56,
     "metadata": {},
     "output_type": "execute_result"
    }
   ],
   "source": [
    "#lesser\n",
    "a=5\n",
    "b=9\n",
    "a<b"
   ]
  },
  {
   "cell_type": "code",
   "execution_count": 57,
   "id": "9bc38d62",
   "metadata": {},
   "outputs": [
    {
     "data": {
      "text/plain": [
       "False"
      ]
     },
     "execution_count": 57,
     "metadata": {},
     "output_type": "execute_result"
    }
   ],
   "source": [
    "#Greater Equal\n",
    "a=5\n",
    "b=9\n",
    "a>=b"
   ]
  },
  {
   "cell_type": "code",
   "execution_count": 58,
   "id": "2554db27",
   "metadata": {},
   "outputs": [
    {
     "data": {
      "text/plain": [
       "True"
      ]
     },
     "execution_count": 58,
     "metadata": {},
     "output_type": "execute_result"
    }
   ],
   "source": [
    "#Lesser Equal\n",
    "a=5\n",
    "b=9\n",
    "a<=b"
   ]
  },
  {
   "cell_type": "code",
   "execution_count": 59,
   "id": "f741b4a8",
   "metadata": {},
   "outputs": [
    {
     "data": {
      "text/plain": [
       "True"
      ]
     },
     "execution_count": 59,
     "metadata": {},
     "output_type": "execute_result"
    }
   ],
   "source": [
    "#Not Equal\n",
    "a=5\n",
    "b=9\n",
    "a!=b"
   ]
  },
  {
   "cell_type": "markdown",
   "id": "835b1596",
   "metadata": {},
   "source": [
    "# Logical Operator\n",
    "## And or not"
   ]
  },
  {
   "cell_type": "code",
   "execution_count": 61,
   "id": "d6e5780c",
   "metadata": {},
   "outputs": [
    {
     "data": {
      "text/plain": [
       "False"
      ]
     },
     "execution_count": 61,
     "metadata": {},
     "output_type": "execute_result"
    }
   ],
   "source": [
    "#and \"\"\"if both true then true\"\"\"\n",
    "(5>7)and (3<0)"
   ]
  },
  {
   "cell_type": "code",
   "execution_count": 62,
   "id": "36b2f6a5",
   "metadata": {},
   "outputs": [
    {
     "data": {
      "text/plain": [
       "False"
      ]
     },
     "execution_count": 62,
     "metadata": {},
     "output_type": "execute_result"
    }
   ],
   "source": [
    "#or  \"\"\"if one true then true\"\"\"\n",
    "(5>7)or(3<0)"
   ]
  },
  {
   "cell_type": "code",
   "execution_count": 66,
   "id": "47982f72",
   "metadata": {},
   "outputs": [
    {
     "data": {
      "text/plain": [
       "True"
      ]
     },
     "execution_count": 66,
     "metadata": {},
     "output_type": "execute_result"
    }
   ],
   "source": [
    "#not \"\"\"if true then false ,and if false then true\"\"\"\n",
    "not (3<0)"
   ]
  },
  {
   "cell_type": "markdown",
   "id": "298eb9e6",
   "metadata": {},
   "source": [
    "# Assignment Operators"
   ]
  },
  {
   "cell_type": "code",
   "execution_count": 68,
   "id": "a49f6b49",
   "metadata": {},
   "outputs": [
    {
     "data": {
      "text/plain": [
       "10"
      ]
     },
     "execution_count": 68,
     "metadata": {},
     "output_type": "execute_result"
    }
   ],
   "source": [
    "# +=\n",
    "a=5\n",
    "a+=5\n",
    "a"
   ]
  },
  {
   "cell_type": "code",
   "execution_count": 70,
   "id": "4313b0bc",
   "metadata": {},
   "outputs": [
    {
     "data": {
      "text/plain": [
       "0"
      ]
     },
     "execution_count": 70,
     "metadata": {},
     "output_type": "execute_result"
    }
   ],
   "source": [
    "# -=\n",
    "a=5\n",
    "a-=5\n",
    "a"
   ]
  },
  {
   "cell_type": "markdown",
   "id": "6a90bf1b",
   "metadata": {},
   "source": [
    "# MEMBERSHIP OPERATOR"
   ]
  },
  {
   "cell_type": "code",
   "execution_count": 72,
   "id": "9af55ad0",
   "metadata": {},
   "outputs": [
    {
     "data": {
      "text/plain": [
       "False"
      ]
     },
     "execution_count": 72,
     "metadata": {},
     "output_type": "execute_result"
    }
   ],
   "source": [
    "# in\n",
    "'x' in 'XXNASDFGH'"
   ]
  },
  {
   "cell_type": "code",
   "execution_count": 73,
   "id": "44c5dd65",
   "metadata": {},
   "outputs": [
    {
     "data": {
      "text/plain": [
       "True"
      ]
     },
     "execution_count": 73,
     "metadata": {},
     "output_type": "execute_result"
    }
   ],
   "source": [
    "# not in\n",
    "\"wx\" not in \"ASDFGHJK\""
   ]
  },
  {
   "cell_type": "markdown",
   "id": "db6c2170",
   "metadata": {},
   "source": [
    "# Bitwise Operator"
   ]
  },
  {
   "cell_type": "code",
   "execution_count": 74,
   "id": "76a09f43",
   "metadata": {},
   "outputs": [
    {
     "data": {
      "text/plain": [
       "0"
      ]
     },
     "execution_count": 74,
     "metadata": {},
     "output_type": "execute_result"
    }
   ],
   "source": [
    "5 & 8 #AND"
   ]
  },
  {
   "cell_type": "code",
   "execution_count": 75,
   "id": "cce0aca6",
   "metadata": {},
   "outputs": [
    {
     "data": {
      "text/plain": [
       "13"
      ]
     },
     "execution_count": 75,
     "metadata": {},
     "output_type": "execute_result"
    }
   ],
   "source": [
    "5 | 8   #OR"
   ]
  },
  {
   "cell_type": "code",
   "execution_count": 77,
   "id": "202fcdce",
   "metadata": {},
   "outputs": [
    {
     "data": {
      "text/plain": [
       "-9"
      ]
     },
     "execution_count": 77,
     "metadata": {},
     "output_type": "execute_result"
    }
   ],
   "source": [
    "~ 8    #NOT"
   ]
  },
  {
   "cell_type": "code",
   "execution_count": 79,
   "id": "fe86840f",
   "metadata": {},
   "outputs": [
    {
     "data": {
      "text/plain": [
       "13"
      ]
     },
     "execution_count": 79,
     "metadata": {},
     "output_type": "execute_result"
    }
   ],
   "source": [
    "5 ^ 8     #XOR"
   ]
  },
  {
   "cell_type": "code",
   "execution_count": 81,
   "id": "558444bc",
   "metadata": {},
   "outputs": [
    {
     "data": {
      "text/plain": [
       "0"
      ]
     },
     "execution_count": 81,
     "metadata": {},
     "output_type": "execute_result"
    }
   ],
   "source": [
    "5 >> 8      #Right Shift"
   ]
  },
  {
   "cell_type": "code",
   "execution_count": 83,
   "id": "d133b3e0",
   "metadata": {},
   "outputs": [
    {
     "data": {
      "text/plain": [
       "1280"
      ]
     },
     "execution_count": 83,
     "metadata": {},
     "output_type": "execute_result"
    }
   ],
   "source": [
    "5 << 8     #Left Shift"
   ]
  },
  {
   "cell_type": "code",
   "execution_count": 91,
   "id": "b486525b",
   "metadata": {},
   "outputs": [
    {
     "name": "stdout",
     "output_type": "stream",
     "text": [
      "i an hello \\\\ world\n"
     ]
    }
   ],
   "source": [
    "print(\"i an hello \\\\\\ world\")"
   ]
  },
  {
   "cell_type": "markdown",
   "id": "d03e7bf8",
   "metadata": {},
   "source": [
    "# Type Casting"
   ]
  },
  {
   "cell_type": "code",
   "execution_count": 1,
   "id": "4dc3e1dd",
   "metadata": {},
   "outputs": [
    {
     "name": "stdout",
     "output_type": "stream",
     "text": [
      "<class 'float'>\n",
      "10.5\n"
     ]
    }
   ],
   "source": [
    "a=5\n",
    "b=5.5\n",
    "c=a+b\n",
    "print(type(c))\n",
    "print(c)"
   ]
  },
  {
   "cell_type": "code",
   "execution_count": 2,
   "id": "11e1d7e2",
   "metadata": {},
   "outputs": [
    {
     "name": "stdout",
     "output_type": "stream",
     "text": [
      "10\n"
     ]
    }
   ],
   "source": [
    "print(int(c))"
   ]
  },
  {
   "cell_type": "markdown",
   "id": "d8e8e732",
   "metadata": {},
   "source": [
    "# String"
   ]
  },
  {
   "cell_type": "code",
   "execution_count": 3,
   "id": "4e0146ac",
   "metadata": {},
   "outputs": [
    {
     "data": {
      "text/plain": [
       "'Anaconda'"
      ]
     },
     "execution_count": 3,
     "metadata": {},
     "output_type": "execute_result"
    }
   ],
   "source": [
    "'Anaconda'"
   ]
  },
  {
   "cell_type": "code",
   "execution_count": 5,
   "id": "faea95b7",
   "metadata": {},
   "outputs": [
    {
     "data": {
      "text/plain": [
       "'Anaconda'"
      ]
     },
     "execution_count": 5,
     "metadata": {},
     "output_type": "execute_result"
    }
   ],
   "source": [
    "\"Anaconda\""
   ]
  },
  {
   "cell_type": "code",
   "execution_count": 4,
   "id": "be4074ec",
   "metadata": {},
   "outputs": [
    {
     "data": {
      "text/plain": [
       "'Anaconda'"
      ]
     },
     "execution_count": 4,
     "metadata": {},
     "output_type": "execute_result"
    }
   ],
   "source": [
    "\"\"\"Anaconda\"\"\""
   ]
  },
  {
   "cell_type": "code",
   "execution_count": 8,
   "id": "da73831a",
   "metadata": {},
   "outputs": [
    {
     "name": "stdout",
     "output_type": "stream",
     "text": [
      "Hello\n",
      "o\n"
     ]
    }
   ],
   "source": [
    "s='Hello'\n",
    "print(s)\n",
    "print(s[4])"
   ]
  },
  {
   "cell_type": "code",
   "execution_count": 25,
   "id": "07e93974",
   "metadata": {},
   "outputs": [
    {
     "name": "stdout",
     "output_type": "stream",
     "text": [
      "\"Hello!!\"Welcome\" to 'Python'\n"
     ]
    }
   ],
   "source": [
    "s=\"\"\"\"Hello!!\"Welcome\" to 'Python'\"\"\"\n",
    "print(s)\n",
    "# String is immutable(can't change)"
   ]
  },
  {
   "cell_type": "code",
   "execution_count": 31,
   "id": "1e96da8e",
   "metadata": {},
   "outputs": [
    {
     "data": {
      "text/plain": [
       "'ITER'"
      ]
     },
     "execution_count": 31,
     "metadata": {},
     "output_type": "execute_result"
    }
   ],
   "source": [
    "s='Hello ITER'\n",
    "s[6:10]    #Slicing Method!!!"
   ]
  },
  {
   "cell_type": "code",
   "execution_count": 38,
   "id": "c42bb7dc",
   "metadata": {},
   "outputs": [
    {
     "data": {
      "text/plain": [
       "'RETI olleH'"
      ]
     },
     "execution_count": 38,
     "metadata": {},
     "output_type": "execute_result"
    }
   ],
   "source": [
    "s[::-1]   ## Reverse Slicing!!"
   ]
  },
  {
   "cell_type": "code",
   "execution_count": 39,
   "id": "06ca5638",
   "metadata": {},
   "outputs": [
    {
     "data": {
      "text/plain": [
       "'olleH'"
      ]
     },
     "execution_count": 39,
     "metadata": {},
     "output_type": "execute_result"
    }
   ],
   "source": [
    "s[-6:-11:-1]"
   ]
  },
  {
   "cell_type": "code",
   "execution_count": 40,
   "id": "81cb07dc",
   "metadata": {},
   "outputs": [
    {
     "name": "stdout",
     "output_type": "stream",
     "text": [
      "str[2:5]= llo\n",
      "str[:5]= Hello\n",
      "str[2:]= llo Python\n",
      "str[:]= Hello Python\n",
      "str[-5:-2]= yth\n",
      "str[:-2]= Hello Pyth\n",
      "str[-5:]= ython\n"
     ]
    }
   ],
   "source": [
    "str=\"Hello Python\"\n",
    "print('str[2:5]=',str[2:5])\n",
    "print('str[:5]=',str[:5])\n",
    "print('str[2:]=',str[2:])\n",
    "print('str[:]=',str[:])\n",
    "print('str[-5:-2]=',str[-5:-2])\n",
    "print('str[:-2]=',str[:-2])\n",
    "print('str[-5:]=',str[-5:])\n"
   ]
  },
  {
   "cell_type": "markdown",
   "id": "4570ce22",
   "metadata": {},
   "source": [
    "# Concatination"
   ]
  },
  {
   "cell_type": "code",
   "execution_count": 48,
   "id": "5db39240",
   "metadata": {},
   "outputs": [
    {
     "data": {
      "text/plain": [
       "'Hello  Python'"
      ]
     },
     "execution_count": 48,
     "metadata": {},
     "output_type": "execute_result"
    }
   ],
   "source": [
    "s1=\"Hello\"\n",
    "s2=\"Python\"\n",
    "s1 +\" \"+ s2\n"
   ]
  },
  {
   "cell_type": "code",
   "execution_count": 49,
   "id": "2af6d5cc",
   "metadata": {},
   "outputs": [
    {
     "data": {
      "text/plain": [
       "'Hello Python'"
      ]
     },
     "execution_count": 49,
     "metadata": {},
     "output_type": "execute_result"
    }
   ],
   "source": [
    "s1=\"Hello \"\n",
    "s2=\"Python\"\n",
    "s1 + s2\n"
   ]
  },
  {
   "cell_type": "markdown",
   "id": "abda2c09",
   "metadata": {},
   "source": [
    "# String Repetation"
   ]
  },
  {
   "cell_type": "code",
   "execution_count": 76,
   "id": "fd2428ed",
   "metadata": {},
   "outputs": [
    {
     "data": {
      "text/plain": [
       "'How Are You???How Are You???How Are You???How Are You???How Are You???How Are You???How Are You???How Are You???How Are You???How Are You???'"
      ]
     },
     "execution_count": 76,
     "metadata": {},
     "output_type": "execute_result"
    }
   ],
   "source": [
    "\"How Are You???\" *10"
   ]
  },
  {
   "cell_type": "code",
   "execution_count": 57,
   "id": "b68eb335",
   "metadata": {},
   "outputs": [
    {
     "data": {
      "text/plain": [
       "'How Are You??? '"
      ]
     },
     "execution_count": 57,
     "metadata": {},
     "output_type": "execute_result"
    }
   ],
   "source": [
    "\"How Are You??? \"\n",
    "\"How Are You??? \"\n",
    "\"How Are You??? \"\n",
    "\"How Are You??? \"\n",
    "\"How Are You??? \"\n",
    "\"How Are You??? \"\n",
    "\"How Are You??? \"\n",
    "\"How Are You??? \"\n",
    "\"How Are You??? \"\n",
    "\"How Are You??? \""
   ]
  },
  {
   "cell_type": "code",
   "execution_count": 77,
   "id": "fa0d556e",
   "metadata": {},
   "outputs": [
    {
     "name": "stdout",
     "output_type": "stream",
     "text": [
      "How Are You??How Are You??How Are You??How Are You??How Are You??How Are You??How Are You??How Are You??How Are You??How Are You??\n",
      "How Are You??How Are You??How Are You??How Are You??How Are You??How Are You??How Are You??How Are You??How Are You??How Are You??\n",
      "How Are You??How Are You??How Are You??How Are You??How Are You??How Are You??How Are You??How Are You??How Are You??How Are You??\n",
      "How Are You??How Are You??How Are You??How Are You??How Are You??How Are You??How Are You??How Are You??How Are You??How Are You??\n",
      "How Are You??How Are You??How Are You??How Are You??How Are You??How Are You??How Are You??How Are You??How Are You??How Are You??\n",
      "How Are You??How Are You??How Are You??How Are You??How Are You??How Are You??How Are You??How Are You??How Are You??How Are You??\n",
      "How Are You??How Are You??How Are You??How Are You??How Are You??How Are You??How Are You??How Are You??How Are You??How Are You??\n",
      "How Are You??How Are You??How Are You??How Are You??How Are You??How Are You??How Are You??How Are You??How Are You??How Are You??\n",
      "How Are You??How Are You??How Are You??How Are You??How Are You??How Are You??How Are You??How Are You??How Are You??How Are You??\n",
      "How Are You??How Are You??How Are You??How Are You??How Are You??How Are You??How Are You??How Are You??How Are You??How Are You??\n",
      "\n"
     ]
    }
   ],
   "source": [
    "s=\"How Are You\"\n",
    "print((('How Are You??'*10) +'\\n')*10)"
   ]
  },
  {
   "cell_type": "markdown",
   "id": "de682f48",
   "metadata": {},
   "source": [
    "# in build Function"
   ]
  },
  {
   "cell_type": "code",
   "execution_count": 79,
   "id": "d32073bc",
   "metadata": {},
   "outputs": [
    {
     "data": {
      "text/plain": [
       "11"
      ]
     },
     "execution_count": 79,
     "metadata": {},
     "output_type": "execute_result"
    }
   ],
   "source": [
    "len(s)  # counts no. of character in the Strings"
   ]
  },
  {
   "cell_type": "code",
   "execution_count": 82,
   "id": "6b270f15",
   "metadata": {},
   "outputs": [
    {
     "data": {
      "text/plain": [
       "'HELLO WORLD'"
      ]
     },
     "execution_count": 82,
     "metadata": {},
     "output_type": "execute_result"
    }
   ],
   "source": [
    "s.upper() # convert to capital letters"
   ]
  },
  {
   "cell_type": "code",
   "execution_count": 83,
   "id": "a877dd0a",
   "metadata": {},
   "outputs": [
    {
     "data": {
      "text/plain": [
       "'hello world'"
      ]
     },
     "execution_count": 83,
     "metadata": {},
     "output_type": "execute_result"
    }
   ],
   "source": [
    "s.lower() # convert to small letters"
   ]
  },
  {
   "cell_type": "code",
   "execution_count": 84,
   "id": "010a0d7b",
   "metadata": {},
   "outputs": [
    {
     "data": {
      "text/plain": [
       "'Hello World'"
      ]
     },
     "execution_count": 84,
     "metadata": {},
     "output_type": "execute_result"
    }
   ],
   "source": [
    "s.title()  # covert each word 1st word to capital"
   ]
  },
  {
   "cell_type": "code",
   "execution_count": 85,
   "id": "f2b04d76",
   "metadata": {},
   "outputs": [
    {
     "data": {
      "text/plain": [
       "'Hello world'"
      ]
     },
     "execution_count": 85,
     "metadata": {},
     "output_type": "execute_result"
    }
   ],
   "source": [
    "s.capitalize() # 1st letter capital"
   ]
  },
  {
   "cell_type": "code",
   "execution_count": 86,
   "id": "67bd78c7",
   "metadata": {},
   "outputs": [
    {
     "data": {
      "text/plain": [
       "'hELLO wORLD'"
      ]
     },
     "execution_count": 86,
     "metadata": {},
     "output_type": "execute_result"
    }
   ],
   "source": [
    "s.swapcase() #convert capital to smaoll and small to capital"
   ]
  },
  {
   "cell_type": "code",
   "execution_count": 93,
   "id": "b6668afe",
   "metadata": {},
   "outputs": [
    {
     "data": {
      "text/plain": [
       "('Hello World', '', '')"
      ]
     },
     "execution_count": 93,
     "metadata": {},
     "output_type": "execute_result"
    }
   ],
   "source": [
    "s.partition('w') # only if there is any symbols present"
   ]
  },
  {
   "cell_type": "code",
   "execution_count": 97,
   "id": "f2f109b3",
   "metadata": {},
   "outputs": [
    {
     "data": {
      "text/plain": [
       "'Hello Manish'"
      ]
     },
     "execution_count": 97,
     "metadata": {},
     "output_type": "execute_result"
    }
   ],
   "source": [
    "s.replace('World', 'Manish') # Replace words"
   ]
  },
  {
   "cell_type": "code",
   "execution_count": 103,
   "id": "5209c86b",
   "metadata": {},
   "outputs": [
    {
     "data": {
      "text/plain": [
       "2"
      ]
     },
     "execution_count": 103,
     "metadata": {},
     "output_type": "execute_result"
    }
   ],
   "source": [
    "s.find('l') # Finds words or letters"
   ]
  },
  {
   "cell_type": "code",
   "execution_count": 104,
   "id": "9a779001",
   "metadata": {},
   "outputs": [
    {
     "data": {
      "text/plain": [
       "9"
      ]
     },
     "execution_count": 104,
     "metadata": {},
     "output_type": "execute_result"
    }
   ],
   "source": [
    "s.rfind('l') # rfind From the Right Side Counting"
   ]
  },
  {
   "cell_type": "code",
   "execution_count": 105,
   "id": "3aff83e8",
   "metadata": {},
   "outputs": [
    {
     "data": {
      "text/plain": [
       "-1"
      ]
     },
     "execution_count": 105,
     "metadata": {},
     "output_type": "execute_result"
    }
   ],
   "source": [
    "s.rfind('x')  #-1 returns letter is not present in that word"
   ]
  },
  {
   "cell_type": "code",
   "execution_count": 106,
   "id": "75fc79bf",
   "metadata": {},
   "outputs": [
    {
     "data": {
      "text/plain": [
       "'Hello World'"
      ]
     },
     "execution_count": 106,
     "metadata": {},
     "output_type": "execute_result"
    }
   ],
   "source": [
    "s.strip()  # remove spaces from stating "
   ]
  },
  {
   "cell_type": "code",
   "execution_count": 110,
   "id": "24c6f9bc",
   "metadata": {},
   "outputs": [
    {
     "data": {
      "text/plain": [
       "'Hello World'"
      ]
     },
     "execution_count": 110,
     "metadata": {},
     "output_type": "execute_result"
    }
   ],
   "source": [
    "s.lstrip() # remove spaces from left side ### s.rstrip()from right side"
   ]
  },
  {
   "cell_type": "code",
   "execution_count": 109,
   "id": "1ccd780c",
   "metadata": {},
   "outputs": [
    {
     "data": {
      "text/plain": [
       "['Hello', 'World']"
      ]
     },
     "execution_count": 109,
     "metadata": {},
     "output_type": "execute_result"
    }
   ],
   "source": [
    "s.split()  # Split the words and Output comes as list!!!"
   ]
  },
  {
   "cell_type": "code",
   "execution_count": 111,
   "id": "a5c5e9e3",
   "metadata": {},
   "outputs": [
    {
     "data": {
      "text/plain": [
       "False"
      ]
     },
     "execution_count": 111,
     "metadata": {},
     "output_type": "execute_result"
    }
   ],
   "source": [
    "s.startswith(\"hi\")   # Check starting letter is true or not"
   ]
  },
  {
   "cell_type": "code",
   "execution_count": 112,
   "id": "8270937b",
   "metadata": {},
   "outputs": [
    {
     "data": {
      "text/plain": [
       "True"
      ]
     },
     "execution_count": 112,
     "metadata": {},
     "output_type": "execute_result"
    }
   ],
   "source": [
    "s.endswith(\"World\")       # Check ending letter is true or not"
   ]
  },
  {
   "cell_type": "code",
   "execution_count": 113,
   "id": "c03a2432",
   "metadata": {},
   "outputs": [
    {
     "data": {
      "text/plain": [
       "False"
      ]
     },
     "execution_count": 113,
     "metadata": {},
     "output_type": "execute_result"
    }
   ],
   "source": [
    "s.isnumeric()     #check wheathers integer is present or not"
   ]
  },
  {
   "cell_type": "code",
   "execution_count": 116,
   "id": "c11c613f",
   "metadata": {},
   "outputs": [
    {
     "data": {
      "text/plain": [
       "0"
      ]
     },
     "execution_count": 116,
     "metadata": {},
     "output_type": "execute_result"
    }
   ],
   "source": [
    "s.index(\"Hello\") # count starting Index"
   ]
  },
  {
   "cell_type": "code",
   "execution_count": 121,
   "id": "ddc01d73",
   "metadata": {},
   "outputs": [
    {
     "data": {
      "text/plain": [
       "False"
      ]
     },
     "execution_count": 121,
     "metadata": {},
     "output_type": "execute_result"
    }
   ],
   "source": [
    "s.isupper()   #check if it is in capital or not"
   ]
  },
  {
   "cell_type": "code",
   "execution_count": 122,
   "id": "5e82f3e7",
   "metadata": {},
   "outputs": [
    {
     "data": {
      "text/plain": [
       "False"
      ]
     },
     "execution_count": 122,
     "metadata": {},
     "output_type": "execute_result"
    }
   ],
   "source": [
    "s.islower()    #check wheather if it is in small or not"
   ]
  },
  {
   "cell_type": "code",
   "execution_count": 128,
   "id": "c06a4766",
   "metadata": {},
   "outputs": [
    {
     "ename": "AttributeError",
     "evalue": "'str' object has no attribute 'iscapitalize'",
     "output_type": "error",
     "traceback": [
      "\u001b[1;31m---------------------------------------------------------------------------\u001b[0m",
      "\u001b[1;31mAttributeError\u001b[0m                            Traceback (most recent call last)",
      "Input \u001b[1;32mIn [128]\u001b[0m, in \u001b[0;36m<cell line: 1>\u001b[1;34m()\u001b[0m\n\u001b[1;32m----> 1\u001b[0m \u001b[43ms\u001b[49m\u001b[38;5;241;43m.\u001b[39;49m\u001b[43miscapitalize\u001b[49m()\n",
      "\u001b[1;31mAttributeError\u001b[0m: 'str' object has no attribute 'iscapitalize'"
     ]
    }
   ],
   "source": [
    "s.iscapitalize()      # check wheather capital or not"
   ]
  },
  {
   "cell_type": "code",
   "execution_count": 129,
   "id": "26fd6cac",
   "metadata": {},
   "outputs": [
    {
     "data": {
      "text/plain": [
       "True"
      ]
     },
     "execution_count": 129,
     "metadata": {},
     "output_type": "execute_result"
    }
   ],
   "source": [
    "s.istitle()     # check title"
   ]
  },
  {
   "cell_type": "code",
   "execution_count": 130,
   "id": "0be16ed7",
   "metadata": {},
   "outputs": [
    {
     "data": {
      "text/plain": [
       "3"
      ]
     },
     "execution_count": 130,
     "metadata": {},
     "output_type": "execute_result"
    }
   ],
   "source": [
    "s.count(\"l\")   #count no. of occurance"
   ]
  },
  {
   "cell_type": "markdown",
   "id": "089e09c0",
   "metadata": {},
   "source": [
    "## FORMATE STRING"
   ]
  },
  {
   "cell_type": "code",
   "execution_count": 1,
   "id": "0bbb7b4d",
   "metadata": {},
   "outputs": [
    {
     "name": "stdout",
     "output_type": "stream",
     "text": [
      "how5.560000\n"
     ]
    }
   ],
   "source": [
    "print('%s%f'%(\"how\",5.56))   "
   ]
  },
  {
   "cell_type": "code",
   "execution_count": 2,
   "id": "6961112f",
   "metadata": {},
   "outputs": [
    {
     "name": "stdout",
     "output_type": "stream",
     "text": [
      "how5\n"
     ]
    }
   ],
   "source": [
    "print('%s%d'%(\"how\",5))    #adding how and 5"
   ]
  },
  {
   "cell_type": "code",
   "execution_count": 3,
   "id": "60b5e9aa",
   "metadata": {},
   "outputs": [
    {
     "name": "stdout",
     "output_type": "stream",
     "text": [
      "my name is : manish and age is : 20 \n"
     ]
    }
   ],
   "source": [
    "print('my name is : {} and age is : {} '. format (\"manish\",20))   #default one"
   ]
  },
  {
   "cell_type": "code",
   "execution_count": 4,
   "id": "48bc7fd1",
   "metadata": {},
   "outputs": [
    {
     "name": "stdout",
     "output_type": "stream",
     "text": [
      "my name is : manish and age is : 20 \n"
     ]
    }
   ],
   "source": [
    "print('my name is : {0} and age is : {1} '. format (\"manish\",20))    #index changing"
   ]
  },
  {
   "cell_type": "code",
   "execution_count": 5,
   "id": "b344e5da",
   "metadata": {},
   "outputs": [
    {
     "name": "stdout",
     "output_type": "stream",
     "text": [
      "my name is : 20 and age is : manish \n"
     ]
    }
   ],
   "source": [
    "print('my name is : {1} and age is : {0} '. format (\"manish\",20))"
   ]
  },
  {
   "cell_type": "code",
   "execution_count": 6,
   "id": "2c825de6",
   "metadata": {},
   "outputs": [
    {
     "name": "stdout",
     "output_type": "stream",
     "text": [
      "my name is : manish and age is : 20 \n"
     ]
    }
   ],
   "source": [
    "print('my name is : {name} and age is : {Age} '. format (name =\"manish\",Age =20))"
   ]
  },
  {
   "cell_type": "code",
   "execution_count": 8,
   "id": "29eb9fed",
   "metadata": {},
   "outputs": [
    {
     "name": "stdout",
     "output_type": "stream",
     "text": [
      "21/09/2024\n"
     ]
    }
   ],
   "source": [
    "print(\"{0}/0{1}/{2}\". format(21,9,2024))"
   ]
  },
  {
   "cell_type": "code",
   "execution_count": 17,
   "id": "33ac03de",
   "metadata": {},
   "outputs": [
    {
     "name": "stdout",
     "output_type": "stream",
     "text": [
      "21/09/2024\n"
     ]
    }
   ],
   "source": [
    "from datetime import datetime\n",
    "now=datetime.now()\n",
    "print(\"%d/0%d/%d\" % (now.day,now.month,now.year))"
   ]
  },
  {
   "cell_type": "code",
   "execution_count": 15,
   "id": "ccfa6201",
   "metadata": {},
   "outputs": [
    {
     "name": "stdout",
     "output_type": "stream",
     "text": [
      "21/09/2024\n"
     ]
    }
   ],
   "source": [
    "print(\"{0}/0{1}/{2}\" .format(now.day,now.month,now.year))"
   ]
  },
  {
   "cell_type": "code",
   "execution_count": 16,
   "id": "75984a37",
   "metadata": {},
   "outputs": [
    {
     "name": "stdout",
     "output_type": "stream",
     "text": [
      "21/09/2024\n"
     ]
    }
   ],
   "source": [
    "print(\"{a}/0{b}/{c}\" .format(a=now.day,b=now.month,c=now.year))"
   ]
  },
  {
   "cell_type": "markdown",
   "id": "0b7733c1",
   "metadata": {},
   "source": [
    "## 24 hrs. format"
   ]
  },
  {
   "cell_type": "code",
   "execution_count": 22,
   "id": "07b68d84",
   "metadata": {},
   "outputs": [
    {
     "name": "stdout",
     "output_type": "stream",
     "text": [
      "2024/09/21  14:37:54\n"
     ]
    }
   ],
   "source": [
    "print(now.strftime('%Y/%m/%d  %H:%M:%S'))"
   ]
  },
  {
   "cell_type": "markdown",
   "id": "a0278ecf",
   "metadata": {},
   "source": [
    "## 12 hrs. format"
   ]
  },
  {
   "cell_type": "code",
   "execution_count": 23,
   "id": "1e671131",
   "metadata": {},
   "outputs": [
    {
     "name": "stdout",
     "output_type": "stream",
     "text": [
      "2024/09/21  02:37:54\n"
     ]
    }
   ],
   "source": [
    "print(now.strftime('%Y/%m/%d  %I:%M:%S'))"
   ]
  },
  {
   "cell_type": "code",
   "execution_count": 27,
   "id": "5a65aa8f",
   "metadata": {},
   "outputs": [
    {
     "name": "stdout",
     "output_type": "stream",
     "text": [
      "Sat 21/2024/09/21  14:37:54 PM\n"
     ]
    }
   ],
   "source": [
    "print(now.strftime('%a %d/%Y/%m/%d  %H:%M:%S %p'))"
   ]
  },
  {
   "cell_type": "code",
   "execution_count": 30,
   "id": "0631e5c8",
   "metadata": {},
   "outputs": [
    {
     "name": "stdout",
     "output_type": "stream",
     "text": [
      "14:37:54 Sat 265 02:37:54 PM\n"
     ]
    }
   ],
   "source": [
    "print(now.strftime('%T %a %j %r'))"
   ]
  },
  {
   "cell_type": "markdown",
   "id": "e67fd7de",
   "metadata": {},
   "source": [
    "## RANDOM FUNCTION\n",
    "      -----------------------------"
   ]
  },
  {
   "cell_type": "code",
   "execution_count": 36,
   "id": "4dd1a559",
   "metadata": {},
   "outputs": [
    {
     "name": "stdout",
     "output_type": "stream",
     "text": [
      "3\n",
      "0.8770445673408167\n",
      "2\n"
     ]
    }
   ],
   "source": [
    "import random\n",
    "print(random.randint(1,5))       # return a random value bwtn.the range\n",
    "print(random.random())           # return a value betn. 0 and 1\n",
    "print(random.randrange(1,4))     #  returns value from 1 to 3 not 4"
   ]
  },
  {
   "cell_type": "markdown",
   "id": "92eb96c1",
   "metadata": {},
   "source": [
    "## SHUFFLE FUNCTION\n",
    "     ---------------------------------"
   ]
  },
  {
   "cell_type": "code",
   "execution_count": 37,
   "id": "503b0d62",
   "metadata": {},
   "outputs": [
    {
     "name": "stdout",
     "output_type": "stream",
     "text": [
      "[1, 4, 3, 2]\n"
     ]
    }
   ],
   "source": [
    "l=[1,2,3,4]\n",
    "random.shuffle(l)\n",
    "print(l)"
   ]
  },
  {
   "cell_type": "markdown",
   "id": "68fa8201",
   "metadata": {},
   "source": [
    "## CHOICE FUNCTION\n",
    "     --------------------------------"
   ]
  },
  {
   "cell_type": "code",
   "execution_count": 43,
   "id": "cb978f04",
   "metadata": {},
   "outputs": [
    {
     "name": "stdout",
     "output_type": "stream",
     "text": [
      "3\n"
     ]
    }
   ],
   "source": [
    "print(random.choice(l))  # returns a random item from a sequence"
   ]
  },
  {
   "cell_type": "markdown",
   "id": "72e95899",
   "metadata": {},
   "source": [
    "## SAMPLE FUNCTION\n",
    "     --------------------------------"
   ]
  },
  {
   "cell_type": "code",
   "execution_count": 44,
   "id": "0a754109",
   "metadata": {},
   "outputs": [
    {
     "name": "stdout",
     "output_type": "stream",
     "text": [
      "[1]\n"
     ]
    }
   ],
   "source": [
    "print (random. sample(l,1)) # return a k length"
   ]
  },
  {
   "cell_type": "markdown",
   "id": "5463ca20",
   "metadata": {},
   "source": [
    "## SEED FUNCTION\n",
    "      -----------------------"
   ]
  },
  {
   "cell_type": "code",
   "execution_count": 45,
   "id": "4734f6ca",
   "metadata": {},
   "outputs": [
    {
     "name": "stdout",
     "output_type": "stream",
     "text": [
      "0.6229016948897019\n"
     ]
    }
   ],
   "source": [
    "random.seed(5)\n",
    "print(random.random())   # if the sending value is same, the sequence will be the same"
   ]
  },
  {
   "cell_type": "markdown",
   "id": "62d8639d",
   "metadata": {},
   "source": [
    "## FILE HANDLING\n",
    "    -----------------------------"
   ]
  },
  {
   "cell_type": "code",
   "execution_count": 17,
   "id": "e596087e",
   "metadata": {},
   "outputs": [
    {
     "data": {
      "text/plain": [
       "'Python is a interactive programming language\\n par mereko bekar lagta hai\\n isiliye Anaconda is better than python'"
      ]
     },
     "execution_count": 17,
     "metadata": {},
     "output_type": "execute_result"
    }
   ],
   "source": [
    "f=open (\"sample .txt\",\"w\")\n",
    "f.write(\"Python is a interactive programming language\\n par mereko bekar lagta hai\\n isiliye Anaconda is better than python\")\n",
    "f.close()\n",
    "f=open(\"sample .txt\",\"r\")\n",
    "f.read()  # Reads the line\n"
   ]
  },
  {
   "cell_type": "code",
   "execution_count": 18,
   "id": "21a122f7",
   "metadata": {},
   "outputs": [
    {
     "data": {
      "text/plain": [
       "114"
      ]
     },
     "execution_count": 18,
     "metadata": {},
     "output_type": "execute_result"
    }
   ],
   "source": [
    "f.tell()"
   ]
  },
  {
   "cell_type": "code",
   "execution_count": 21,
   "id": "7d1718c3",
   "metadata": {},
   "outputs": [
    {
     "data": {
      "text/plain": [
       "' par mereko bekar lagta hai\\n'"
      ]
     },
     "execution_count": 21,
     "metadata": {},
     "output_type": "execute_result"
    }
   ],
   "source": [
    "f.readline() "
   ]
  },
  {
   "cell_type": "code",
   "execution_count": 27,
   "id": "7a966141",
   "metadata": {},
   "outputs": [
    {
     "data": {
      "text/plain": [
       "84"
      ]
     },
     "execution_count": 27,
     "metadata": {},
     "output_type": "execute_result"
    }
   ],
   "source": [
    "f.seek(84)"
   ]
  },
  {
   "cell_type": "code",
   "execution_count": 28,
   "id": "942e5ce0",
   "metadata": {},
   "outputs": [
    {
     "data": {
      "text/plain": [
       "'Anaconda is better than python'"
      ]
     },
     "execution_count": 28,
     "metadata": {},
     "output_type": "execute_result"
    }
   ],
   "source": [
    "f.readline() "
   ]
  },
  {
   "cell_type": "code",
   "execution_count": 33,
   "id": "7f38b357",
   "metadata": {},
   "outputs": [
    {
     "data": {
      "text/plain": [
       "'Python is a interactive programming language\\n par mereko bekar lagta hai\\n isiliye Anaconda is better than python'"
      ]
     },
     "execution_count": 33,
     "metadata": {},
     "output_type": "execute_result"
    }
   ],
   "source": [
    "f=open(\"sample .txt\",\"r\")\n",
    "f.read()"
   ]
  },
  {
   "cell_type": "code",
   "execution_count": 7,
   "id": "ba19cd75",
   "metadata": {},
   "outputs": [
    {
     "data": {
      "text/plain": [
       "'python:\\nPython is a interactive programming language'"
      ]
     },
     "execution_count": 7,
     "metadata": {},
     "output_type": "execute_result"
    }
   ],
   "source": [
    "f=open('pythol','w')\n",
    "des=['python:\\n',\"Python is a interactive programming language\"]\n",
    "f.writelines(des)    # writelines in form of list\n",
    "f.close()\n",
    "f=open('pythonl','r')\n",
    "f.read()"
   ]
  },
  {
   "cell_type": "markdown",
   "id": "933615f8",
   "metadata": {},
   "source": [
    "## ERROR AND EXCEPTION\n",
    "      -------------------------------------"
   ]
  },
  {
   "cell_type": "code",
   "execution_count": 13,
   "id": "7aaef639",
   "metadata": {},
   "outputs": [
    {
     "ename": "SyntaxError",
     "evalue": "EOL while scanning string literal (381004666.py, line 1)",
     "output_type": "error",
     "traceback": [
      "\u001b[1;36m  Input \u001b[1;32mIn [13]\u001b[1;36m\u001b[0m\n\u001b[1;33m    \"hello=5\u001b[0m\n\u001b[1;37m            ^\u001b[0m\n\u001b[1;31mSyntaxError\u001b[0m\u001b[1;31m:\u001b[0m EOL while scanning string literal\n"
     ]
    }
   ],
   "source": [
    "\"hello=5"
   ]
  },
  {
   "cell_type": "code",
   "execution_count": 9,
   "id": "e03f3bc2",
   "metadata": {},
   "outputs": [
    {
     "ename": "TypeError",
     "evalue": "pow() missing required argument 'exp' (pos 2)",
     "output_type": "error",
     "traceback": [
      "\u001b[1;31m---------------------------------------------------------------------------\u001b[0m",
      "\u001b[1;31mTypeError\u001b[0m                                 Traceback (most recent call last)",
      "Input \u001b[1;32mIn [9]\u001b[0m, in \u001b[0;36m<cell line: 1>\u001b[1;34m()\u001b[0m\n\u001b[1;32m----> 1\u001b[0m \u001b[38;5;28mprint\u001b[39m(\u001b[38;5;28;43mpow\u001b[39;49m\u001b[43m(\u001b[49m\u001b[38;5;241;43m2\u001b[39;49m\u001b[43m)\u001b[49m)\n",
      "\u001b[1;31mTypeError\u001b[0m: pow() missing required argument 'exp' (pos 2)"
     ]
    }
   ],
   "source": [
    "print(pow(2))"
   ]
  },
  {
   "cell_type": "code",
   "execution_count": 10,
   "id": "45d18852",
   "metadata": {},
   "outputs": [
    {
     "ename": "NameError",
     "evalue": "name 'ope' is not defined",
     "output_type": "error",
     "traceback": [
      "\u001b[1;31m---------------------------------------------------------------------------\u001b[0m",
      "\u001b[1;31mNameError\u001b[0m                                 Traceback (most recent call last)",
      "Input \u001b[1;32mIn [10]\u001b[0m, in \u001b[0;36m<cell line: 1>\u001b[1;34m()\u001b[0m\n\u001b[1;32m----> 1\u001b[0m f\u001b[38;5;241m=\u001b[39m\u001b[43mope\u001b[49m(\u001b[38;5;124m'\u001b[39m\u001b[38;5;124mpythonl\u001b[39m\u001b[38;5;124m'\u001b[39m,\u001b[38;5;124m'\u001b[39m\u001b[38;5;124mr\u001b[39m\u001b[38;5;124m'\u001b[39m)\n\u001b[0;32m      2\u001b[0m f\u001b[38;5;241m.\u001b[39mread()\n",
      "\u001b[1;31mNameError\u001b[0m: name 'ope' is not defined"
     ]
    }
   ],
   "source": [
    "f=ope('pythonl','r')\n",
    "f.read()"
   ]
  },
  {
   "cell_type": "code",
   "execution_count": 11,
   "id": "c32fe48b",
   "metadata": {},
   "outputs": [
    {
     "ename": "SyntaxError",
     "evalue": "unexpected EOF while parsing (1484476080.py, line 2)",
     "output_type": "error",
     "traceback": [
      "\u001b[1;36m  Input \u001b[1;32mIn [11]\u001b[1;36m\u001b[0m\n\u001b[1;33m    f.read(\u001b[0m\n\u001b[1;37m           ^\u001b[0m\n\u001b[1;31mSyntaxError\u001b[0m\u001b[1;31m:\u001b[0m unexpected EOF while parsing\n"
     ]
    }
   ],
   "source": [
    "f=open('pythonl','r')\n",
    "f.read("
   ]
  },
  {
   "cell_type": "code",
   "execution_count": 14,
   "id": "03ced30e",
   "metadata": {},
   "outputs": [
    {
     "ename": "NameError",
     "evalue": "name 'ijrgehgfhg' is not defined",
     "output_type": "error",
     "traceback": [
      "\u001b[1;31m---------------------------------------------------------------------------\u001b[0m",
      "\u001b[1;31mNameError\u001b[0m                                 Traceback (most recent call last)",
      "Input \u001b[1;32mIn [14]\u001b[0m, in \u001b[0;36m<cell line: 1>\u001b[1;34m()\u001b[0m\n\u001b[1;32m----> 1\u001b[0m \u001b[43mijrgehgfhg\u001b[49m\n",
      "\u001b[1;31mNameError\u001b[0m: name 'ijrgehgfhg' is not defined"
     ]
    }
   ],
   "source": [
    "ijrgehgfhg"
   ]
  },
  {
   "cell_type": "code",
   "execution_count": 15,
   "id": "abf4411f",
   "metadata": {
    "scrolled": true
   },
   "outputs": [
    {
     "ename": "ZeroDivisionError",
     "evalue": "division by zero",
     "output_type": "error",
     "traceback": [
      "\u001b[1;31m---------------------------------------------------------------------------\u001b[0m",
      "\u001b[1;31mZeroDivisionError\u001b[0m                         Traceback (most recent call last)",
      "Input \u001b[1;32mIn [15]\u001b[0m, in \u001b[0;36m<cell line: 3>\u001b[1;34m()\u001b[0m\n\u001b[0;32m      1\u001b[0m a\u001b[38;5;241m=\u001b[39m\u001b[38;5;241m20\u001b[39m\n\u001b[0;32m      2\u001b[0m b\u001b[38;5;241m=\u001b[39m\u001b[38;5;241m0\u001b[39m\n\u001b[1;32m----> 3\u001b[0m \u001b[38;5;28mprint\u001b[39m(\u001b[43ma\u001b[49m\u001b[38;5;241;43m/\u001b[39;49m\u001b[43mb\u001b[49m)\n",
      "\u001b[1;31mZeroDivisionError\u001b[0m: division by zero"
     ]
    }
   ],
   "source": [
    "a=20\n",
    "b=0\n",
    "print(a/b)"
   ]
  },
  {
   "cell_type": "markdown",
   "id": "11131215",
   "metadata": {},
   "source": [
    "# TRY- EXCEPT\n",
    "     ----------------------"
   ]
  },
  {
   "cell_type": "code",
   "execution_count": 1,
   "id": "545372f7",
   "metadata": {},
   "outputs": [
    {
     "name": "stdout",
     "output_type": "stream",
     "text": [
      "2\n",
      "No exception Exception raised in try block\n",
      "This is always executed\n"
     ]
    }
   ],
   "source": [
    "try:\n",
    "    k=5//2  # raises divide by zero exception.\n",
    "    print(k)\n",
    "except ZeroDivisionError:\n",
    "    print(\"Can't divide by zero\")\n",
    "else:\n",
    "    print(\"No exception Exception raised in try block\")\n",
    "finally:\n",
    "    print(\"This is always executed\")"
   ]
  },
  {
   "cell_type": "code",
   "execution_count": 1,
   "id": "71c1b4db",
   "metadata": {},
   "outputs": [
    {
     "name": "stdout",
     "output_type": "stream",
     "text": [
      "can't be divided by zero\n",
      "wrong variable is entered\n"
     ]
    }
   ],
   "source": [
    "def fun(a):\n",
    "    b=((a+3)/(a-3))\n",
    "    print(\"value of b:\",b)\n",
    "try:\n",
    "    fun(3)\n",
    "except ZeroDivisionError:\n",
    "    print(\"can't be divided by zero\")\n",
    "try:\n",
    "    fun(b)\n",
    "except NameError:\n",
    "    print(\"wrong variable is entered\")"
   ]
  },
  {
   "cell_type": "markdown",
   "id": "10a66771",
   "metadata": {},
   "source": [
    "# PYTHON STRING\n",
    "    ------------------------------"
   ]
  },
  {
   "cell_type": "markdown",
   "id": "24ade608",
   "metadata": {},
   "source": [
    "# RE Function\n",
    "    -----------------------"
   ]
  },
  {
   "cell_type": "code",
   "execution_count": 2,
   "id": "c3b50aa5",
   "metadata": {},
   "outputs": [
    {
     "data": {
      "text/plain": [
       "<re.Match object; span=(10, 15), match='India'>"
      ]
     },
     "execution_count": 2,
     "metadata": {},
     "output_type": "execute_result"
    }
   ],
   "source": [
    "import re\n",
    "string = \"I Love My India\"   # check if \"India\" is present or not\n",
    "match = re.search(\"India\",string)\n",
    "match"
   ]
  },
  {
   "cell_type": "code",
   "execution_count": 4,
   "id": "e91720f5",
   "metadata": {},
   "outputs": [
    {
     "name": "stdout",
     "output_type": "stream",
     "text": [
      "re.compile('India')\n",
      "I Love My India\n",
      "India\n",
      "(10, 15)\n",
      "10\n",
      "15\n"
     ]
    }
   ],
   "source": [
    "print(match.re)\n",
    "print(match.string)\n",
    "print(match.group())\n",
    "print(match.span())\n",
    "print(match.start())\n",
    "print(match.end())\n",
    "\n"
   ]
  },
  {
   "cell_type": "markdown",
   "id": "cb8c772a",
   "metadata": {},
   "source": [
    "# Meta Character\n",
    "    ------------------------------"
   ]
  },
  {
   "cell_type": "code",
   "execution_count": 10,
   "id": "f7606c6e",
   "metadata": {},
   "outputs": [
    {
     "ename": "SyntaxError",
     "evalue": "invalid syntax (2854353581.py, line 1)",
     "output_type": "error",
     "traceback": [
      "\u001b[1;36m  Input \u001b[1;32mIn [10]\u001b[1;36m\u001b[0m\n\u001b[1;33m    []     A set of characters\t\"[a-m]\"\u001b[0m\n\u001b[1;37m           ^\u001b[0m\n\u001b[1;31mSyntaxError\u001b[0m\u001b[1;31m:\u001b[0m invalid syntax\n"
     ]
    }
   ],
   "source": [
    "\n",
    "[]     A set of characters\t\"[a-m]\"\t\n",
    "\\     Signals a special sequence (can also be used to escape special characters)\t\"\\d\"\t\n",
    ".      Any character (except newline character)\t\"he..o\"\t\n",
    "^    Starts with\t\"^hello\"\t\n",
    "$      Ends with\t\"planet$\"\t\n",
    "*      Zero or more occurrences \"he.*o\"\t\n",
    "+     One or more occurrences\t\"he.+o\"\t\n",
    "?      Zero or one occurrence\t\"he.?o\"\t\n",
    "{}    Exactly the specified number of occurrences\t\"he.{2}o\"\t\n",
    "|       Either or\t\"falls|stays\"\t\n",
    "()     Capture and group"
   ]
  },
  {
   "cell_type": "markdown",
   "id": "b8be0e82",
   "metadata": {},
   "source": [
    "### re.findall() - the re.findall() method returns alist of string containing all the matches\n",
    "     --------------------------------------------------------------------------------------------------"
   ]
  },
  {
   "cell_type": "code",
   "execution_count": 12,
   "id": "2b30c308",
   "metadata": {},
   "outputs": [
    {
     "name": "stdout",
     "output_type": "stream",
     "text": [
      "['12', '89', '34']\n"
     ]
    }
   ],
   "source": [
    "import re\n",
    "string=\"hello 12 hi 89. howdy 34\"\n",
    "pattern=\"\\d+\"\n",
    "result=re.findall(pattern,string)\n",
    "print(result)"
   ]
  },
  {
   "cell_type": "markdown",
   "id": "76cd0711",
   "metadata": {},
   "source": [
    "#### re.split()"
   ]
  },
  {
   "cell_type": "code",
   "execution_count": 13,
   "id": "0b52e7e1",
   "metadata": {},
   "outputs": [
    {
     "name": "stdout",
     "output_type": "stream",
     "text": [
      "['TWELVE : ', ' EIGHTY NINE : ', '.']\n"
     ]
    }
   ],
   "source": [
    "import re\n",
    "string=\"TWELVE : 12 EIGHTY NINE : 89.\"\n",
    "pattern=\"\\d+\"\n",
    "result= re.split(pattern,string)\n",
    "print(result)"
   ]
  },
  {
   "cell_type": "markdown",
   "id": "9a1c2e2b",
   "metadata": {},
   "source": [
    "#### re.sub()"
   ]
  },
  {
   "cell_type": "code",
   "execution_count": 16,
   "id": "fa9a36a2",
   "metadata": {},
   "outputs": [
    {
     "name": "stdout",
     "output_type": "stream",
     "text": [
      "abc12de23f456\n"
     ]
    }
   ],
   "source": [
    "import re\n",
    "             # string with spaces\n",
    "string = \"abc 12 de 23  f45 6\"\n",
    "            # matches all whitespace characters\n",
    "pattern=\"\\s+\"\n",
    "            #empty string\n",
    "replace=\"\"\n",
    "new_string=re.sub(pattern,replace,string)\n",
    "print(new_string)"
   ]
  },
  {
   "cell_type": "markdown",
   "id": "5e252de5",
   "metadata": {},
   "source": [
    "#### re.match()"
   ]
  },
  {
   "cell_type": "code",
   "execution_count": 17,
   "id": "15287b13",
   "metadata": {},
   "outputs": [
    {
     "name": "stdout",
     "output_type": "stream",
     "text": [
      "<re.Match object; span=(0, 3), match='123'>\n",
      "None\n",
      "<re.Match object; span=(3, 6), match='123'>\n"
     ]
    }
   ],
   "source": [
    "import re\n",
    "result=re.match(\"\\d+\",\"123abc\")\n",
    "print(result)\n",
    "result=re.match(\"\\d+\",\"abc123\")\n",
    "print(result)\n",
    "result=re.search(\"\\d+\",\"abc123\")\n",
    "print(result)"
   ]
  },
  {
   "cell_type": "code",
   "execution_count": null,
   "id": "6467487b",
   "metadata": {},
   "outputs": [],
   "source": []
  }
 ],
 "metadata": {
  "kernelspec": {
   "display_name": "Python 3 (ipykernel)",
   "language": "python",
   "name": "python3"
  },
  "language_info": {
   "codemirror_mode": {
    "name": "ipython",
    "version": 3
   },
   "file_extension": ".py",
   "mimetype": "text/x-python",
   "name": "python",
   "nbconvert_exporter": "python",
   "pygments_lexer": "ipython3",
   "version": "3.9.12"
  }
 },
 "nbformat": 4,
 "nbformat_minor": 5
}
